{
 "cells": [
  {
   "cell_type": "code",
   "execution_count": 1,
   "metadata": {},
   "outputs": [
    {
     "name": "stdout",
     "output_type": "stream",
     "text": [
      "Current Working Directory: /Users/matthewwhittle/Data Science/shefflied-bats\n"
     ]
    }
   ],
   "source": [
    "from sdm.utils import set_project_wd\n",
    "set_project_wd()"
   ]
  },
  {
   "cell_type": "code",
   "execution_count": 2,
   "metadata": {},
   "outputs": [],
   "source": [
    "import matplotlib.pyplot as plt\n",
    "import torch\n",
    "from sdm.models import S2Dataset"
   ]
  },
  {
   "cell_type": "code",
   "execution_count": 3,
   "metadata": {},
   "outputs": [],
   "source": [
    "input_vars = [\n",
    "        1,\n",
    "        2,\n",
    "        3,\n",
    "        4,\n",
    "        5,\n",
    "        6,\n",
    "        7,\n",
    "        8,\n",
    "        9,\n",
    "        10,\n",
    "        11,\n",
    "        12,\n",
    "        13,\n",
    "        14\n",
    "    ]\n",
    "n_input_bands = len(input_vars)\n",
    "\n",
    "train_dataset = S2Dataset(\n",
    "    \"data/processed/s2-lidar/s2-lidar-stack.tif\",\n",
    "    input_bands=input_vars,\n",
    "    target_band=[15],\n",
    "    tile_size=1024,\n",
    ")"
   ]
  },
  {
   "cell_type": "code",
   "execution_count": 4,
   "metadata": {},
   "outputs": [
    {
     "name": "stderr",
     "output_type": "stream",
     "text": [
      "/Users/matthewwhittle/opt/miniconda3/envs/bats/lib/python3.11/site-packages/rasterio/features.py:324: ShapeSkipWarning: Invalid or empty shape -1.8374140821380693 at index 0 will not be rasterized.\n",
      "  warnings.warn('Invalid or empty shape {} at index {} will not be rasterized.'.format(geom, index), ShapeSkipWarning)\n",
      "/Users/matthewwhittle/opt/miniconda3/envs/bats/lib/python3.11/site-packages/rasterio/features.py:324: ShapeSkipWarning: Invalid or empty shape 53.29282372497585 at index 1 will not be rasterized.\n",
      "  warnings.warn('Invalid or empty shape {} at index {} will not be rasterized.'.format(geom, index), ShapeSkipWarning)\n",
      "/Users/matthewwhittle/opt/miniconda3/envs/bats/lib/python3.11/site-packages/rasterio/features.py:324: ShapeSkipWarning: Invalid or empty shape 10238.162585917862 at index 2 will not be rasterized.\n",
      "  warnings.warn('Invalid or empty shape {} at index {} will not be rasterized.'.format(geom, index), ShapeSkipWarning)\n",
      "/Users/matthewwhittle/opt/miniconda3/envs/bats/lib/python3.11/site-packages/rasterio/features.py:324: ShapeSkipWarning: Invalid or empty shape 10293.292823724976 at index 3 will not be rasterized.\n",
      "  warnings.warn('Invalid or empty shape {} at index {} will not be rasterized.'.format(geom, index), ShapeSkipWarning)\n"
     ]
    },
    {
     "ename": "ValueError",
     "evalue": "No valid geometry objects found for rasterize",
     "output_type": "error",
     "traceback": [
      "\u001b[0;31m---------------------------------------------------------------------------\u001b[0m",
      "\u001b[0;31mValueError\u001b[0m                                Traceback (most recent call last)",
      "\u001b[1;32m/Users/matthewwhittle/Data Science/shefflied-bats/modelling/model-veg-height-dl.ipynb Cell 4\u001b[0m line \u001b[0;36m1\n\u001b[0;32m----> <a href='vscode-notebook-cell:/Users/matthewwhittle/Data%20Science/shefflied-bats/modelling/model-veg-height-dl.ipynb#Y113sZmlsZQ%3D%3D?line=0'>1</a>\u001b[0m train_dataset[\u001b[39m0\u001b[39;49m]\n",
      "File \u001b[0;32m~/Data Science/shefflied-bats/sdm/models.py:70\u001b[0m, in \u001b[0;36mS2Dataset.__getitem__\u001b[0;34m(self, idx)\u001b[0m\n\u001b[1;32m     68\u001b[0m \u001b[39mdef\u001b[39;00m \u001b[39m__getitem__\u001b[39m(\u001b[39mself\u001b[39m, idx):\n\u001b[1;32m     69\u001b[0m     bbox \u001b[39m=\u001b[39m \u001b[39mself\u001b[39m\u001b[39m.\u001b[39mbbox_tile_list[idx]\n\u001b[0;32m---> 70\u001b[0m     input_tile \u001b[39m=\u001b[39m \u001b[39mself\u001b[39;49m\u001b[39m.\u001b[39;49minput_data\u001b[39m.\u001b[39;49mrio\u001b[39m.\u001b[39;49mclip(\u001b[39m*\u001b[39;49mbbox)\n\u001b[1;32m     71\u001b[0m     target_tile \u001b[39m=\u001b[39m \u001b[39mself\u001b[39m\u001b[39m.\u001b[39mtarget_data\u001b[39m.\u001b[39mrio\u001b[39m.\u001b[39mclip(\u001b[39m*\u001b[39mbbox)\n\u001b[1;32m     74\u001b[0m     \u001b[39mreturn\u001b[39;00m torch\u001b[39m.\u001b[39mtensor(input_tile\u001b[39m.\u001b[39mvalues, dtype\u001b[39m=\u001b[39mtorch\u001b[39m.\u001b[39mfloat32), torch\u001b[39m.\u001b[39mtensor(target_tile\u001b[39m.\u001b[39mvalues, dtype\u001b[39m=\u001b[39mtorch\u001b[39m.\u001b[39mfloat32)\n",
      "File \u001b[0;32m~/opt/miniconda3/envs/bats/lib/python3.11/site-packages/rioxarray/raster_array.py:911\u001b[0m, in \u001b[0;36mRasterArray.clip\u001b[0;34m(self, geometries, crs, all_touched, drop, invert, from_disk)\u001b[0m\n\u001b[1;32m    903\u001b[0m     cropped_ds \u001b[39m=\u001b[39m _clip_from_disk(\n\u001b[1;32m    904\u001b[0m         \u001b[39mself\u001b[39m\u001b[39m.\u001b[39m_obj,\n\u001b[1;32m    905\u001b[0m         geometries\u001b[39m=\u001b[39mgeometries,\n\u001b[0;32m   (...)\u001b[0m\n\u001b[1;32m    908\u001b[0m         invert\u001b[39m=\u001b[39minvert,\n\u001b[1;32m    909\u001b[0m     )\n\u001b[1;32m    910\u001b[0m \u001b[39mif\u001b[39;00m cropped_ds \u001b[39mis\u001b[39;00m \u001b[39mNone\u001b[39;00m:\n\u001b[0;32m--> 911\u001b[0m     cropped_ds \u001b[39m=\u001b[39m _clip_xarray(\n\u001b[1;32m    912\u001b[0m         \u001b[39mself\u001b[39;49m\u001b[39m.\u001b[39;49m_obj,\n\u001b[1;32m    913\u001b[0m         geometries\u001b[39m=\u001b[39;49mgeometries,\n\u001b[1;32m    914\u001b[0m         all_touched\u001b[39m=\u001b[39;49mall_touched,\n\u001b[1;32m    915\u001b[0m         drop\u001b[39m=\u001b[39;49mdrop,\n\u001b[1;32m    916\u001b[0m         invert\u001b[39m=\u001b[39;49minvert,\n\u001b[1;32m    917\u001b[0m     )\n\u001b[1;32m    919\u001b[0m \u001b[39mif\u001b[39;00m (\n\u001b[1;32m    920\u001b[0m     cropped_ds\u001b[39m.\u001b[39mcoords[\u001b[39mself\u001b[39m\u001b[39m.\u001b[39mx_dim]\u001b[39m.\u001b[39msize \u001b[39m<\u001b[39m \u001b[39m1\u001b[39m\n\u001b[1;32m    921\u001b[0m     \u001b[39mor\u001b[39;00m cropped_ds\u001b[39m.\u001b[39mcoords[\u001b[39mself\u001b[39m\u001b[39m.\u001b[39my_dim]\u001b[39m.\u001b[39msize \u001b[39m<\u001b[39m \u001b[39m1\u001b[39m\n\u001b[1;32m    922\u001b[0m ):\n\u001b[1;32m    923\u001b[0m     \u001b[39mraise\u001b[39;00m NoDataInBounds(\n\u001b[1;32m    924\u001b[0m         \u001b[39mf\u001b[39m\u001b[39m\"\u001b[39m\u001b[39mNo data found in bounds.\u001b[39m\u001b[39m{\u001b[39;00m_get_data_var_message(\u001b[39mself\u001b[39m\u001b[39m.\u001b[39m_obj)\u001b[39m}\u001b[39;00m\u001b[39m\"\u001b[39m\n\u001b[1;32m    925\u001b[0m     )\n",
      "File \u001b[0;32m~/opt/miniconda3/envs/bats/lib/python3.11/site-packages/rioxarray/raster_array.py:203\u001b[0m, in \u001b[0;36m_clip_xarray\u001b[0;34m(xds, geometries, all_touched, drop, invert)\u001b[0m\n\u001b[1;32m    193\u001b[0m \u001b[39mdef\u001b[39;00m \u001b[39m_clip_xarray\u001b[39m(\n\u001b[1;32m    194\u001b[0m     xds: xarray\u001b[39m.\u001b[39mDataArray,\n\u001b[1;32m    195\u001b[0m     geometries: Iterable,\n\u001b[0;32m   (...)\u001b[0m\n\u001b[1;32m    198\u001b[0m     invert: \u001b[39mbool\u001b[39m,\n\u001b[1;32m    199\u001b[0m ) \u001b[39m-\u001b[39m\u001b[39m>\u001b[39m xarray\u001b[39m.\u001b[39mDataArray:\n\u001b[1;32m    200\u001b[0m \u001b[39m    \u001b[39m\u001b[39m\"\"\"\u001b[39;00m\n\u001b[1;32m    201\u001b[0m \u001b[39m    clip the xarray DataArray\u001b[39;00m\n\u001b[1;32m    202\u001b[0m \u001b[39m    \"\"\"\u001b[39;00m\n\u001b[0;32m--> 203\u001b[0m     clip_mask_arr \u001b[39m=\u001b[39m geometry_mask(\n\u001b[1;32m    204\u001b[0m         geometries\u001b[39m=\u001b[39;49mgeometries,\n\u001b[1;32m    205\u001b[0m         out_shape\u001b[39m=\u001b[39;49m(\u001b[39mint\u001b[39;49m(xds\u001b[39m.\u001b[39;49mrio\u001b[39m.\u001b[39;49mheight), \u001b[39mint\u001b[39;49m(xds\u001b[39m.\u001b[39;49mrio\u001b[39m.\u001b[39;49mwidth)),\n\u001b[1;32m    206\u001b[0m         transform\u001b[39m=\u001b[39;49mxds\u001b[39m.\u001b[39;49mrio\u001b[39m.\u001b[39;49mtransform(recalc\u001b[39m=\u001b[39;49m\u001b[39mTrue\u001b[39;49;00m),\n\u001b[1;32m    207\u001b[0m         invert\u001b[39m=\u001b[39;49m\u001b[39mnot\u001b[39;49;00m invert,\n\u001b[1;32m    208\u001b[0m         all_touched\u001b[39m=\u001b[39;49mall_touched,\n\u001b[1;32m    209\u001b[0m     )\n\u001b[1;32m    210\u001b[0m     clip_mask_xray \u001b[39m=\u001b[39m xarray\u001b[39m.\u001b[39mDataArray(\n\u001b[1;32m    211\u001b[0m         clip_mask_arr,\n\u001b[1;32m    212\u001b[0m         dims\u001b[39m=\u001b[39m(xds\u001b[39m.\u001b[39mrio\u001b[39m.\u001b[39my_dim, xds\u001b[39m.\u001b[39mrio\u001b[39m.\u001b[39mx_dim),\n\u001b[1;32m    213\u001b[0m     )\n\u001b[1;32m    214\u001b[0m     cropped_ds \u001b[39m=\u001b[39m xds\u001b[39m.\u001b[39mwhere(clip_mask_xray)\n",
      "File \u001b[0;32m~/opt/miniconda3/envs/bats/lib/python3.11/site-packages/rasterio/env.py:401\u001b[0m, in \u001b[0;36mensure_env.<locals>.wrapper\u001b[0;34m(*args, **kwds)\u001b[0m\n\u001b[1;32m    399\u001b[0m \u001b[39melse\u001b[39;00m:\n\u001b[1;32m    400\u001b[0m     \u001b[39mwith\u001b[39;00m Env\u001b[39m.\u001b[39mfrom_defaults():\n\u001b[0;32m--> 401\u001b[0m         \u001b[39mreturn\u001b[39;00m f(\u001b[39m*\u001b[39;49margs, \u001b[39m*\u001b[39;49m\u001b[39m*\u001b[39;49mkwds)\n",
      "File \u001b[0;32m~/opt/miniconda3/envs/bats/lib/python3.11/site-packages/rasterio/features.py:71\u001b[0m, in \u001b[0;36mgeometry_mask\u001b[0;34m(geometries, out_shape, transform, all_touched, invert)\u001b[0m\n\u001b[1;32m     37\u001b[0m \u001b[39m\u001b[39m\u001b[39m\"\"\"Create a mask from shapes.\u001b[39;00m\n\u001b[1;32m     38\u001b[0m \n\u001b[1;32m     39\u001b[0m \u001b[39mBy default, mask is intended for use as a\u001b[39;00m\n\u001b[0;32m   (...)\u001b[0m\n\u001b[1;32m     67\u001b[0m \n\u001b[1;32m     68\u001b[0m \u001b[39m\"\"\"\u001b[39;00m\n\u001b[1;32m     69\u001b[0m fill, mask_value \u001b[39m=\u001b[39m (\u001b[39m0\u001b[39m, \u001b[39m1\u001b[39m) \u001b[39mif\u001b[39;00m invert \u001b[39melse\u001b[39;00m (\u001b[39m1\u001b[39m, \u001b[39m0\u001b[39m)\n\u001b[0;32m---> 71\u001b[0m \u001b[39mreturn\u001b[39;00m rasterize(\n\u001b[1;32m     72\u001b[0m     geometries,\n\u001b[1;32m     73\u001b[0m     out_shape\u001b[39m=\u001b[39;49mout_shape,\n\u001b[1;32m     74\u001b[0m     transform\u001b[39m=\u001b[39;49mtransform,\n\u001b[1;32m     75\u001b[0m     all_touched\u001b[39m=\u001b[39;49mall_touched,\n\u001b[1;32m     76\u001b[0m     fill\u001b[39m=\u001b[39;49mfill,\n\u001b[1;32m     77\u001b[0m     default_value\u001b[39m=\u001b[39;49mmask_value)\u001b[39m.\u001b[39mastype(\u001b[39m'\u001b[39m\u001b[39mbool\u001b[39m\u001b[39m'\u001b[39m)\n",
      "File \u001b[0;32m~/opt/miniconda3/envs/bats/lib/python3.11/site-packages/rasterio/env.py:398\u001b[0m, in \u001b[0;36mensure_env.<locals>.wrapper\u001b[0;34m(*args, **kwds)\u001b[0m\n\u001b[1;32m    395\u001b[0m \u001b[39m@wraps\u001b[39m(f)\n\u001b[1;32m    396\u001b[0m \u001b[39mdef\u001b[39;00m \u001b[39mwrapper\u001b[39m(\u001b[39m*\u001b[39margs, \u001b[39m*\u001b[39m\u001b[39m*\u001b[39mkwds):\n\u001b[1;32m    397\u001b[0m     \u001b[39mif\u001b[39;00m local\u001b[39m.\u001b[39m_env:\n\u001b[0;32m--> 398\u001b[0m         \u001b[39mreturn\u001b[39;00m f(\u001b[39m*\u001b[39;49margs, \u001b[39m*\u001b[39;49m\u001b[39m*\u001b[39;49mkwds)\n\u001b[1;32m    399\u001b[0m     \u001b[39melse\u001b[39;00m:\n\u001b[1;32m    400\u001b[0m         \u001b[39mwith\u001b[39;00m Env\u001b[39m.\u001b[39mfrom_defaults():\n",
      "File \u001b[0;32m~/opt/miniconda3/envs/bats/lib/python3.11/site-packages/rasterio/features.py:327\u001b[0m, in \u001b[0;36mrasterize\u001b[0;34m(shapes, out_shape, fill, out, transform, all_touched, merge_alg, default_value, dtype)\u001b[0m\n\u001b[1;32m    324\u001b[0m         warnings\u001b[39m.\u001b[39mwarn(\u001b[39m'\u001b[39m\u001b[39mInvalid or empty shape \u001b[39m\u001b[39m{}\u001b[39;00m\u001b[39m at index \u001b[39m\u001b[39m{}\u001b[39;00m\u001b[39m will not be rasterized.\u001b[39m\u001b[39m'\u001b[39m\u001b[39m.\u001b[39mformat(geom, index), ShapeSkipWarning)\n\u001b[1;32m    326\u001b[0m \u001b[39mif\u001b[39;00m \u001b[39mnot\u001b[39;00m valid_shapes:\n\u001b[0;32m--> 327\u001b[0m     \u001b[39mraise\u001b[39;00m \u001b[39mValueError\u001b[39;00m(\u001b[39m'\u001b[39m\u001b[39mNo valid geometry objects found for rasterize\u001b[39m\u001b[39m'\u001b[39m)\n\u001b[1;32m    329\u001b[0m shape_values \u001b[39m=\u001b[39m np\u001b[39m.\u001b[39marray(shape_values)\n\u001b[1;32m    331\u001b[0m \u001b[39mif\u001b[39;00m \u001b[39mnot\u001b[39;00m validate_dtype(shape_values, valid_dtypes):\n",
      "\u001b[0;31mValueError\u001b[0m: No valid geometry objects found for rasterize"
     ]
    }
   ],
   "source": [
    "train_dataset[0]"
   ]
  },
  {
   "cell_type": "code",
   "execution_count": 5,
   "metadata": {},
   "outputs": [
    {
     "name": "stdout",
     "output_type": "stream",
     "text": [
      "Error: No data found in bounds.\n",
      "Error: No data found in bounds.\n",
      "Error: No data found in bounds.\n",
      "Error: No data found in bounds.\n"
     ]
    },
    {
     "ename": "TypeError",
     "evalue": "default_collate: batch must contain tensors, numpy arrays, numbers, dicts or lists; found <class 'NoneType'>",
     "output_type": "error",
     "traceback": [
      "\u001b[0;31m---------------------------------------------------------------------------\u001b[0m",
      "\u001b[0;31mTypeError\u001b[0m                                 Traceback (most recent call last)",
      "\u001b[1;32m/Users/matthewwhittle/Data Science/shefflied-bats/modelling/model-veg-height-dl.ipynb Cell 5\u001b[0m line \u001b[0;36m4\n\u001b[1;32m     <a href='vscode-notebook-cell:/Users/matthewwhittle/Data%20Science/shefflied-bats/modelling/model-veg-height-dl.ipynb#Y111sZmlsZQ%3D%3D?line=37'>38</a>\u001b[0m \u001b[39mfor\u001b[39;00m epoch \u001b[39min\u001b[39;00m \u001b[39mrange\u001b[39m(\u001b[39m1\u001b[39m, n_epochs \u001b[39m+\u001b[39m \u001b[39m1\u001b[39m):\n\u001b[1;32m     <a href='vscode-notebook-cell:/Users/matthewwhittle/Data%20Science/shefflied-bats/modelling/model-veg-height-dl.ipynb#Y111sZmlsZQ%3D%3D?line=38'>39</a>\u001b[0m     epoch_loss \u001b[39m=\u001b[39m \u001b[39m0\u001b[39m\n\u001b[0;32m---> <a href='vscode-notebook-cell:/Users/matthewwhittle/Data%20Science/shefflied-bats/modelling/model-veg-height-dl.ipynb#Y111sZmlsZQ%3D%3D?line=39'>40</a>\u001b[0m     \u001b[39mfor\u001b[39;00m i, (inputs, labels) \u001b[39min\u001b[39;00m \u001b[39menumerate\u001b[39m(train_loader):\n\u001b[1;32m     <a href='vscode-notebook-cell:/Users/matthewwhittle/Data%20Science/shefflied-bats/modelling/model-veg-height-dl.ipynb#Y111sZmlsZQ%3D%3D?line=40'>41</a>\u001b[0m         optimizer\u001b[39m.\u001b[39mzero_grad()\n\u001b[1;32m     <a href='vscode-notebook-cell:/Users/matthewwhittle/Data%20Science/shefflied-bats/modelling/model-veg-height-dl.ipynb#Y111sZmlsZQ%3D%3D?line=41'>42</a>\u001b[0m         outputs \u001b[39m=\u001b[39m model(inputs)\n",
      "File \u001b[0;32m~/opt/miniconda3/envs/bats/lib/python3.11/site-packages/torch/utils/data/dataloader.py:634\u001b[0m, in \u001b[0;36m_BaseDataLoaderIter.__next__\u001b[0;34m(self)\u001b[0m\n\u001b[1;32m    631\u001b[0m \u001b[39mif\u001b[39;00m \u001b[39mself\u001b[39m\u001b[39m.\u001b[39m_sampler_iter \u001b[39mis\u001b[39;00m \u001b[39mNone\u001b[39;00m:\n\u001b[1;32m    632\u001b[0m     \u001b[39m# TODO(https://github.com/pytorch/pytorch/issues/76750)\u001b[39;00m\n\u001b[1;32m    633\u001b[0m     \u001b[39mself\u001b[39m\u001b[39m.\u001b[39m_reset()  \u001b[39m# type: ignore[call-arg]\u001b[39;00m\n\u001b[0;32m--> 634\u001b[0m data \u001b[39m=\u001b[39m \u001b[39mself\u001b[39;49m\u001b[39m.\u001b[39;49m_next_data()\n\u001b[1;32m    635\u001b[0m \u001b[39mself\u001b[39m\u001b[39m.\u001b[39m_num_yielded \u001b[39m+\u001b[39m\u001b[39m=\u001b[39m \u001b[39m1\u001b[39m\n\u001b[1;32m    636\u001b[0m \u001b[39mif\u001b[39;00m \u001b[39mself\u001b[39m\u001b[39m.\u001b[39m_dataset_kind \u001b[39m==\u001b[39m _DatasetKind\u001b[39m.\u001b[39mIterable \u001b[39mand\u001b[39;00m \\\n\u001b[1;32m    637\u001b[0m         \u001b[39mself\u001b[39m\u001b[39m.\u001b[39m_IterableDataset_len_called \u001b[39mis\u001b[39;00m \u001b[39mnot\u001b[39;00m \u001b[39mNone\u001b[39;00m \u001b[39mand\u001b[39;00m \\\n\u001b[1;32m    638\u001b[0m         \u001b[39mself\u001b[39m\u001b[39m.\u001b[39m_num_yielded \u001b[39m>\u001b[39m \u001b[39mself\u001b[39m\u001b[39m.\u001b[39m_IterableDataset_len_called:\n",
      "File \u001b[0;32m~/opt/miniconda3/envs/bats/lib/python3.11/site-packages/torch/utils/data/dataloader.py:678\u001b[0m, in \u001b[0;36m_SingleProcessDataLoaderIter._next_data\u001b[0;34m(self)\u001b[0m\n\u001b[1;32m    676\u001b[0m \u001b[39mdef\u001b[39;00m \u001b[39m_next_data\u001b[39m(\u001b[39mself\u001b[39m):\n\u001b[1;32m    677\u001b[0m     index \u001b[39m=\u001b[39m \u001b[39mself\u001b[39m\u001b[39m.\u001b[39m_next_index()  \u001b[39m# may raise StopIteration\u001b[39;00m\n\u001b[0;32m--> 678\u001b[0m     data \u001b[39m=\u001b[39m \u001b[39mself\u001b[39;49m\u001b[39m.\u001b[39;49m_dataset_fetcher\u001b[39m.\u001b[39;49mfetch(index)  \u001b[39m# may raise StopIteration\u001b[39;00m\n\u001b[1;32m    679\u001b[0m     \u001b[39mif\u001b[39;00m \u001b[39mself\u001b[39m\u001b[39m.\u001b[39m_pin_memory:\n\u001b[1;32m    680\u001b[0m         data \u001b[39m=\u001b[39m _utils\u001b[39m.\u001b[39mpin_memory\u001b[39m.\u001b[39mpin_memory(data, \u001b[39mself\u001b[39m\u001b[39m.\u001b[39m_pin_memory_device)\n",
      "File \u001b[0;32m~/opt/miniconda3/envs/bats/lib/python3.11/site-packages/torch/utils/data/_utils/fetch.py:54\u001b[0m, in \u001b[0;36m_MapDatasetFetcher.fetch\u001b[0;34m(self, possibly_batched_index)\u001b[0m\n\u001b[1;32m     52\u001b[0m \u001b[39melse\u001b[39;00m:\n\u001b[1;32m     53\u001b[0m     data \u001b[39m=\u001b[39m \u001b[39mself\u001b[39m\u001b[39m.\u001b[39mdataset[possibly_batched_index]\n\u001b[0;32m---> 54\u001b[0m \u001b[39mreturn\u001b[39;00m \u001b[39mself\u001b[39;49m\u001b[39m.\u001b[39;49mcollate_fn(data)\n",
      "File \u001b[0;32m~/opt/miniconda3/envs/bats/lib/python3.11/site-packages/torch/utils/data/_utils/collate.py:264\u001b[0m, in \u001b[0;36mdefault_collate\u001b[0;34m(batch)\u001b[0m\n\u001b[1;32m    203\u001b[0m \u001b[39mdef\u001b[39;00m \u001b[39mdefault_collate\u001b[39m(batch):\n\u001b[1;32m    204\u001b[0m \u001b[39m    \u001b[39m\u001b[39mr\u001b[39m\u001b[39m\"\"\"\u001b[39;00m\n\u001b[1;32m    205\u001b[0m \u001b[39m        Function that takes in a batch of data and puts the elements within the batch\u001b[39;00m\n\u001b[1;32m    206\u001b[0m \u001b[39m        into a tensor with an additional outer dimension - batch size. The exact output type can be\u001b[39;00m\n\u001b[0;32m   (...)\u001b[0m\n\u001b[1;32m    262\u001b[0m \u001b[39m            >>> default_collate(batch)  # Handle `CustomType` automatically\u001b[39;00m\n\u001b[1;32m    263\u001b[0m \u001b[39m    \"\"\"\u001b[39;00m\n\u001b[0;32m--> 264\u001b[0m     \u001b[39mreturn\u001b[39;00m collate(batch, collate_fn_map\u001b[39m=\u001b[39;49mdefault_collate_fn_map)\n",
      "File \u001b[0;32m~/opt/miniconda3/envs/bats/lib/python3.11/site-packages/torch/utils/data/_utils/collate.py:142\u001b[0m, in \u001b[0;36mcollate\u001b[0;34m(batch, collate_fn_map)\u001b[0m\n\u001b[1;32m    139\u001b[0m transposed \u001b[39m=\u001b[39m \u001b[39mlist\u001b[39m(\u001b[39mzip\u001b[39m(\u001b[39m*\u001b[39mbatch))  \u001b[39m# It may be accessed twice, so we use a list.\u001b[39;00m\n\u001b[1;32m    141\u001b[0m \u001b[39mif\u001b[39;00m \u001b[39misinstance\u001b[39m(elem, \u001b[39mtuple\u001b[39m):\n\u001b[0;32m--> 142\u001b[0m     \u001b[39mreturn\u001b[39;00m [collate(samples, collate_fn_map\u001b[39m=\u001b[39;49mcollate_fn_map) \u001b[39mfor\u001b[39;49;00m samples \u001b[39min\u001b[39;49;00m transposed]  \u001b[39m# Backwards compatibility.\u001b[39;00m\n\u001b[1;32m    143\u001b[0m \u001b[39melse\u001b[39;00m:\n\u001b[1;32m    144\u001b[0m     \u001b[39mtry\u001b[39;00m:\n",
      "File \u001b[0;32m~/opt/miniconda3/envs/bats/lib/python3.11/site-packages/torch/utils/data/_utils/collate.py:142\u001b[0m, in \u001b[0;36m<listcomp>\u001b[0;34m(.0)\u001b[0m\n\u001b[1;32m    139\u001b[0m transposed \u001b[39m=\u001b[39m \u001b[39mlist\u001b[39m(\u001b[39mzip\u001b[39m(\u001b[39m*\u001b[39mbatch))  \u001b[39m# It may be accessed twice, so we use a list.\u001b[39;00m\n\u001b[1;32m    141\u001b[0m \u001b[39mif\u001b[39;00m \u001b[39misinstance\u001b[39m(elem, \u001b[39mtuple\u001b[39m):\n\u001b[0;32m--> 142\u001b[0m     \u001b[39mreturn\u001b[39;00m [collate(samples, collate_fn_map\u001b[39m=\u001b[39;49mcollate_fn_map) \u001b[39mfor\u001b[39;00m samples \u001b[39min\u001b[39;00m transposed]  \u001b[39m# Backwards compatibility.\u001b[39;00m\n\u001b[1;32m    143\u001b[0m \u001b[39melse\u001b[39;00m:\n\u001b[1;32m    144\u001b[0m     \u001b[39mtry\u001b[39;00m:\n",
      "File \u001b[0;32m~/opt/miniconda3/envs/bats/lib/python3.11/site-packages/torch/utils/data/_utils/collate.py:150\u001b[0m, in \u001b[0;36mcollate\u001b[0;34m(batch, collate_fn_map)\u001b[0m\n\u001b[1;32m    146\u001b[0m         \u001b[39mexcept\u001b[39;00m \u001b[39mTypeError\u001b[39;00m:\n\u001b[1;32m    147\u001b[0m             \u001b[39m# The sequence type may not support `__init__(iterable)` (e.g., `range`).\u001b[39;00m\n\u001b[1;32m    148\u001b[0m             \u001b[39mreturn\u001b[39;00m [collate(samples, collate_fn_map\u001b[39m=\u001b[39mcollate_fn_map) \u001b[39mfor\u001b[39;00m samples \u001b[39min\u001b[39;00m transposed]\n\u001b[0;32m--> 150\u001b[0m \u001b[39mraise\u001b[39;00m \u001b[39mTypeError\u001b[39;00m(default_collate_err_msg_format\u001b[39m.\u001b[39mformat(elem_type))\n",
      "\u001b[0;31mTypeError\u001b[0m: default_collate: batch must contain tensors, numpy arrays, numbers, dicts or lists; found <class 'NoneType'>"
     ]
    }
   ],
   "source": [
    "import torch\n",
    "import torch.nn as nn\n",
    "import torch.optim as optim\n",
    "from torch.utils.data import DataLoader\n",
    "\n",
    "# set mac m1 device\n",
    "device = torch.device('mps')\n",
    "\n",
    "# Define the CNN model\n",
    "class SimpleCNN(nn.Module):\n",
    "    def __init__(self, in_channels):\n",
    "        super(SimpleCNN, self).__init__()\n",
    "        self.conv1 = nn.Conv2d(in_channels, 16, kernel_size=3, stride=1, padding=1)\n",
    "        self.conv2 = nn.Conv2d(16, 32, kernel_size=3, stride=1, padding=1)\n",
    "        self.fc1 = nn.Linear(32 * 256 * 256, 256)  # Adjust the size depending on your tile size\n",
    "        self.fc2 = nn.Linear(256, 1)\n",
    "\n",
    "    def forward(self, x):\n",
    "        x = nn.functional.relu(self.conv1(x))\n",
    "        x = nn.functional.relu(self.conv2(x))\n",
    "        x = x.view(x.size(0), -1)\n",
    "        x = nn.functional.relu(self.fc1(x))\n",
    "        x = self.fc2(x)\n",
    "        return x\n",
    "\n",
    "\n",
    "\n",
    "\n",
    "train_loader = DataLoader(train_dataset, batch_size=4, shuffle=True)\n",
    "\n",
    "# Initialize the model, loss, and optimizer\n",
    "model = SimpleCNN(n_input_bands)\n",
    "criterion = nn.MSELoss()  # Mean Squared Error for regression task\n",
    "optimizer = optim.Adam(model.parameters(), lr=0.001)\n",
    "\n",
    "# Training loop\n",
    "n_epochs = 10  # Number of epochs\n",
    "for epoch in range(1, n_epochs + 1):\n",
    "    epoch_loss = 0\n",
    "    for i, (inputs, labels) in enumerate(train_loader):\n",
    "        optimizer.zero_grad()\n",
    "        outputs = model(inputs)\n",
    "        loss = criterion(outputs, labels)\n",
    "        loss.backward()\n",
    "        optimizer.step()\n",
    "        epoch_loss += loss.item()\n",
    "\n",
    "    print(f\"Epoch {epoch}/{n_epochs} Loss: {epoch_loss/len(train_loader)}\")\n",
    "\n",
    "# Save the model\n",
    "# torch.save(model.state_dict(), \"simple_cnn_model.pth\")\n"
   ]
  },
  {
   "cell_type": "code",
   "execution_count": null,
   "metadata": {},
   "outputs": [],
   "source": []
  }
 ],
 "metadata": {
  "kernelspec": {
   "display_name": "bats",
   "language": "python",
   "name": "python3"
  },
  "language_info": {
   "codemirror_mode": {
    "name": "ipython",
    "version": 3
   },
   "file_extension": ".py",
   "mimetype": "text/x-python",
   "name": "python",
   "nbconvert_exporter": "python",
   "pygments_lexer": "ipython3",
   "version": "3.11.6"
  },
  "orig_nbformat": 4
 },
 "nbformat": 4,
 "nbformat_minor": 2
}
