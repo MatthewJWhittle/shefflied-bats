{
 "cells": [
  {
   "cell_type": "code",
   "execution_count": null,
   "metadata": {},
   "outputs": [],
   "source": [
    "from sdm.utils import set_project_wd\n",
    "set_project_wd()"
   ]
  },
  {
   "cell_type": "code",
   "execution_count": null,
   "metadata": {},
   "outputs": [],
   "source": [
    "import torch\n",
    "from segmentation_models_pytorch import Unet\n",
    "import rasterio as rio\n",
    "# Define windows from block size\n",
    "from rasterio.windows import Window\n",
    "from typing import Tuple, Union\n",
    "from pathlib import Path\n",
    "import pandas as pd"
   ]
  },
  {
   "cell_type": "code",
   "execution_count": null,
   "metadata": {},
   "outputs": [],
   "source": [
    "species_counts = pd.read_csv('data/processed/bat-species-counts.csv')\n",
    "species_counts[\"count_weight\"] = species_counts[\"total_records\"] / species_counts[\"total_records\"].sum()\n",
    "species_counts"
   ]
  },
  {
   "cell_type": "code",
   "execution_count": null,
   "metadata": {},
   "outputs": [],
   "source": [
    "ev_path = \"data/processed/s2-dtm-100m.tif\"\n",
    "presences_path = \"data/processed/bat-species-counts.tif\"\n",
    "sample_dir = Path(\"data/processed/dl-samples\")\n",
    "sample_dir.mkdir(exist_ok=True, parents=True)"
   ]
  },
  {
   "cell_type": "code",
   "execution_count": null,
   "metadata": {},
   "outputs": [],
   "source": [
    "def generate_tif_blocks(tif_path:Union[str, Path], block_size:int, all_even:bool=False) -> list[Window]:\n",
    "    windows = []\n",
    "    with rio.open(tif_path) as src:\n",
    "        height, width = src.height, src.width\n",
    "        for i in range(0, height, block_size):\n",
    "            for j in range(0, width, block_size):\n",
    "                block_height = min(block_size, height - i)\n",
    "                block_width = min(block_size, width - j)\n",
    "                if all_even and (block_height == block_size) and (block_width == block_size):\n",
    "                    windows.append(Window(j, i, block_width, block_height))\n",
    "                elif not all_even:\n",
    "                    windows.append(Window(j, i, block_width, block_height))\n",
    "                else:\n",
    "                    pass\n",
    "    return windows\n",
    "\n",
    "def get_tif_info(self, tif_path):\n",
    "    \"\"\"\n",
    "    Get information about the tif file\n",
    "    \"\"\"\n",
    "    with rio.open(tif_path) as src:\n",
    "        return {\"profile\": src.profile, \"transform\": src.transform, \"crs\": src.crs, \"channels\": src.count, \"height\": src.height, \"width\": src.width}\n"
   ]
  }
 ],
 "metadata": {
  "language_info": {
   "name": "python"
  }
 },
 "nbformat": 4,
 "nbformat_minor": 2
}
