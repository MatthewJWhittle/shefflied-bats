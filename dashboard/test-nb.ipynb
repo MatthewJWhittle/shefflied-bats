{
 "cells": [
  {
   "cell_type": "code",
   "execution_count": 1,
   "metadata": {},
   "outputs": [
    {
     "name": "stdout",
     "output_type": "stream",
     "text": [
      "Current Working Directory: /Users/matthewwhittle/Data Science/shefflied-bats\n"
     ]
    }
   ],
   "source": [
    "from sdm.utils import set_project_wd\n",
    "set_project_wd()"
   ]
  },
  {
   "cell_type": "code",
   "execution_count": 6,
   "metadata": {},
   "outputs": [
    {
     "data": {
      "text/plain": [
       "feature\n",
       "ceh-land-cover-100m_Inland rock_500m              0.001263\n",
       "ceh-land-cover-100m_Coniferous woodland           0.001571\n",
       "ceh-land-cover-100m_Fen, Marsh and Swamp_500m     0.003794\n",
       "terrain-stats_tpi                                 0.009548\n",
       "ceh-land-cover-100m_Coniferous woodland_500m      0.011441\n",
       "ceh-land-cover-100m_Heather grassland_500m        0.011889\n",
       "ceh-land-cover-100m_Heather and shrub             0.013098\n",
       "os-feature-cover-100m_water                       0.013951\n",
       "terrain-stats_aspect_eastness_slope               0.014155\n",
       "ceh-land-cover-100m_Fen, Marsh and Swamp          0.016862\n",
       "terrain-stats_aspect_northness_slope              0.016979\n",
       "ceh-land-cover-100m_Heather and shrub_500m        0.019788\n",
       "ceh-land-cover-100m_Heather grassland             0.023305\n",
       "os-distance-to-feature_distance_to_water          0.028582\n",
       "terrain-stats_twi                                 0.029725\n",
       "ceh-land-cover-100m_Acid grassland_500m           0.029960\n",
       "ceh-land-cover-100m_Inland rock                   0.030013\n",
       "ceh-land-cover-100m_Calcareous grassland          0.031759\n",
       "os-distance-to-feature_distance_to_buildings      0.036287\n",
       "os-distance-to-feature_distance_to_major_roads    0.038114\n",
       "terrain-stats_slope                               0.040018\n",
       "ceh-land-cover-100m_Urban_500m                    0.040927\n",
       "ceh-land-cover-100m_Calcareous grassland_500m     0.040941\n",
       "os-feature-cover-100m_water_500m                  0.044130\n",
       "ceh-land-cover-100m_Urban                         0.051162\n",
       "os-feature-cover-100m_major_roads                 0.051289\n",
       "ceh-land-cover-100m_Improved grassland            0.051512\n",
       "climate_stats_temp_ann_avg                        0.056154\n",
       "ceh-land-cover-100m_Improved grassland_500m       0.057344\n",
       "ceh-land-cover-100m_Suburban_500m                 0.058947\n",
       "ceh-land-cover-100m_Neutral grassland             0.061393\n",
       "veg-height-100m_veg_height_max                    0.064440\n",
       "ceh-land-cover-100m_Acid grassland                0.066617\n",
       "ceh-land-cover-100m_Neutral grassland_500m        0.067846\n",
       "climate_stats_wind_ann_avg                        0.074341\n",
       "veg-height-100m_veg_height_max_500m               0.080923\n",
       "climate_stats_prec_ann_avg                        0.090903\n",
       "ceh-land-cover-100m_Arable                        0.093681\n",
       "dtm-100m_LIDAR_Composite_2m_DTM_2022_Elevation    0.098708\n",
       "bioclim_bioclim_9                                 0.109092\n",
       "bioclim_bioclim_15                                0.121852\n",
       "ceh-land-cover-100m_Arable_500m                   0.125546\n",
       "ceh-land-cover-100m_Suburban                      0.140529\n",
       "Name: average, dtype: float64"
      ]
     },
     "execution_count": 6,
     "metadata": {},
     "output_type": "execute_result"
    }
   ],
   "source": [
    "import pandas as pd\n",
    "\n",
    "partial_dependence = pd.read_csv(\"data/sdm_predictions/partial-dependence-data.csv\")\n",
    "\n",
    "feature_influence = partial_dependence.groupby([\"latin_name\", \"activity_type\", \"feature\"])[\"average\"].apply(lambda x : x.max() - x.min())\n",
    "feature_influence = feature_influence.reset_index()\n",
    "feature_influence = feature_influence.groupby(\"feature\")[\"average\"].mean().sort_values(ascending=True)\n",
    "feature_influence"
   ]
  },
  {
   "cell_type": "code",
   "execution_count": null,
   "metadata": {},
   "outputs": [],
   "source": []
  }
 ],
 "metadata": {
  "kernelspec": {
   "display_name": "bats",
   "language": "python",
   "name": "python3"
  },
  "language_info": {
   "codemirror_mode": {
    "name": "ipython",
    "version": 3
   },
   "file_extension": ".py",
   "mimetype": "text/x-python",
   "name": "python",
   "nbconvert_exporter": "python",
   "pygments_lexer": "ipython3",
   "version": "3.11.6"
  }
 },
 "nbformat": 4,
 "nbformat_minor": 2
}
