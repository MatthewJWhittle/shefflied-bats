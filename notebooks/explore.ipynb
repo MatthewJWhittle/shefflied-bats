{
 "cells": [
  {
   "cell_type": "code",
   "execution_count": 1,
   "metadata": {},
   "outputs": [],
   "source": [
    "from pyhere import here\n",
    "import os\n",
    "\n",
    "os.chdir(here())"
   ]
  },
  {
   "cell_type": "code",
   "execution_count": 2,
   "metadata": {},
   "outputs": [],
   "source": [
    "import rioxarray as rxr"
   ]
  },
  {
   "cell_type": "code",
   "execution_count": 3,
   "metadata": {},
   "outputs": [],
   "source": [
    "terrain_stats = rxr.open_rasterio(\"data/evs/terrain_stats.tif\")"
   ]
  },
  {
   "cell_type": "code",
   "execution_count": null,
   "metadata": {},
   "outputs": [
    {
     "data": {
      "text/plain": [
       "{'AREA_OR_POINT': 'Area',\n",
       " 'STATISTICS_APPROXIMATE': 'YES',\n",
       " 'STATISTICS_MAXIMUM': 0.60018414258957,\n",
       " 'STATISTICS_MEAN': 0.045174425506748,\n",
       " 'STATISTICS_MINIMUM': 0,\n",
       " 'STATISTICS_STDDEV': 0.058698098634867,\n",
       " 'STATISTICS_VALID_PERCENT': 87.37,\n",
       " 'scale_factor': 1.0,\n",
       " 'add_offset': 0.0}"
      ]
     },
     "execution_count": 5,
     "metadata": {},
     "output_type": "execute_result"
    }
   ],
   "source": [
    "terrain_stats"
   ]
  },
  {
   "cell_type": "code",
   "execution_count": null,
   "metadata": {},
   "outputs": [],
   "source": []
  }
 ],
 "metadata": {
  "kernelspec": {
   "display_name": "bats",
   "language": "python",
   "name": "python3"
  },
  "language_info": {
   "codemirror_mode": {
    "name": "ipython",
    "version": 3
   },
   "file_extension": ".py",
   "mimetype": "text/x-python",
   "name": "python",
   "nbconvert_exporter": "python",
   "pygments_lexer": "ipython3",
   "version": "3.11.6"
  }
 },
 "nbformat": 4,
 "nbformat_minor": 2
}
