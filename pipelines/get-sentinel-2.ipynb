{
 "cells": [
  {
   "cell_type": "code",
   "execution_count": 1,
   "metadata": {},
   "outputs": [
    {
     "name": "stdout",
     "output_type": "stream",
     "text": [
      "Current Working Directory: /Users/matthewwhittle/Data Science/shefflied-bats\n"
     ]
    }
   ],
   "source": [
    "from sdm.utils import set_project_wd\n",
    "set_project_wd()"
   ]
  },
  {
   "cell_type": "code",
   "execution_count": 2,
   "metadata": {},
   "outputs": [],
   "source": [
    "import ee\n",
    "\n",
    "# Initialize Earth Engine\n",
    "ee.Initialize()\n"
   ]
  },
  {
   "cell_type": "code",
   "execution_count": 3,
   "metadata": {},
   "outputs": [
    {
     "data": {
      "text/html": [
       "<div>\n",
       "<style scoped>\n",
       "    .dataframe tbody tr th:only-of-type {\n",
       "        vertical-align: middle;\n",
       "    }\n",
       "\n",
       "    .dataframe tbody tr th {\n",
       "        vertical-align: top;\n",
       "    }\n",
       "\n",
       "    .dataframe thead th {\n",
       "        text-align: right;\n",
       "    }\n",
       "</style>\n",
       "<table border=\"1\" class=\"dataframe\">\n",
       "  <thead>\n",
       "    <tr style=\"text-align: right;\">\n",
       "      <th></th>\n",
       "      <th>County</th>\n",
       "      <th>geometry</th>\n",
       "    </tr>\n",
       "  </thead>\n",
       "  <tbody>\n",
       "    <tr>\n",
       "      <th>0</th>\n",
       "      <td>South Yorkshire</td>\n",
       "      <td>POLYGON ((392859.732 393429.711, 392697.300 39...</td>\n",
       "    </tr>\n",
       "  </tbody>\n",
       "</table>\n",
       "</div>"
      ],
      "text/plain": [
       "            County                                           geometry\n",
       "0  South Yorkshire  POLYGON ((392859.732 393429.711, 392697.300 39..."
      ]
     },
     "execution_count": 3,
     "metadata": {},
     "output_type": "execute_result"
    }
   ],
   "source": [
    "import geopandas as gpd\n",
    "boundary = gpd.read_file('data/processed/boundary.geojson')\n",
    "# Add a 10km buffer to the boundary\n",
    "boundary[\"geometry\"] = boundary.buffer(20_000)\n",
    "boundary"
   ]
  },
  {
   "cell_type": "code",
   "execution_count": 4,
   "metadata": {},
   "outputs": [
    {
     "name": "stdout",
     "output_type": "stream",
     "text": [
      "[-2.1388582  53.11308682 -0.54825054 53.84981282]\n"
     ]
    }
   ],
   "source": [
    "# Get the lat lon bounds of the AOI\n",
    "boundary = boundary.to_crs(4326)\n",
    "bbox = boundary.bounds.values[0]\n",
    "print(bbox)\n",
    "xmin, ymin, xmax, ymax = bbox"
   ]
  },
  {
   "cell_type": "markdown",
   "metadata": {},
   "source": [
    "# Get a sentinel-2 image\n",
    "\n",
    "Lidar data was captured during 2022 so we will get an image in 2022"
   ]
  },
  {
   "cell_type": "code",
   "execution_count": 5,
   "metadata": {},
   "outputs": [],
   "source": [
    "# PArams\n",
    "# Summer 2022 will give the most accurate representation of vegetation for the lidar capture period\n",
    "START_DATE  = \"2022-06-01\"\n",
    "END_DATE    = \"2022-08-31\""
   ]
  },
  {
   "cell_type": "code",
   "execution_count": 6,
   "metadata": {},
   "outputs": [
    {
     "name": "stderr",
     "output_type": "stream",
     "text": [
      "/var/folders/vm/9ws15vws62zgnr64rdr_ls5r0000gn/T/ipykernel_60127/3755768224.py:1: UserWarning: Geometry is in a geographic CRS. Results from 'centroid' are likely incorrect. Use 'GeoSeries.to_crs()' to re-project geometries to a projected CRS before this operation.\n",
      "\n",
      "  x = boundary.geometry.centroid.x.values[0]\n",
      "/var/folders/vm/9ws15vws62zgnr64rdr_ls5r0000gn/T/ipykernel_60127/3755768224.py:2: UserWarning: Geometry is in a geographic CRS. Results from 'centroid' are likely incorrect. Use 'GeoSeries.to_crs()' to re-project geometries to a projected CRS before this operation.\n",
      "\n",
      "  y = boundary.geometry.centroid.y.values[0]\n"
     ]
    }
   ],
   "source": [
    "x = boundary.geometry.centroid.x.values[0]\n",
    "y = boundary.geometry.centroid.y.values[0]\n"
   ]
  },
  {
   "cell_type": "code",
   "execution_count": 7,
   "metadata": {},
   "outputs": [],
   "source": [
    "AOI = ee.Geometry.Point(x,y)\n",
    "START_DATE = '2022-05-01'\n",
    "END_DATE = '2022-10-30'\n",
    "CLOUD_FILTER = 60\n",
    "CLD_PRB_THRESH = 50\n",
    "NIR_DRK_THRESH = 0.15\n",
    "CLD_PRJ_DIST = 1\n",
    "BUFFER = 50"
   ]
  },
  {
   "cell_type": "code",
   "execution_count": 8,
   "metadata": {},
   "outputs": [],
   "source": [
    "from re import A\n",
    "from sdm.data.sentinel import Sentinel2CloudMasker\n",
    "AOI = ee.Geometry.Rectangle([xmin, ymin, xmax, ymax])\n",
    "masker = Sentinel2CloudMasker(\n",
    "    aoi=AOI,\n",
    "    start_date=START_DATE,\n",
    "    end_date=END_DATE,\n",
    "    cloud_filter=CLOUD_FILTER,\n",
    "    cld_prb_thresh=CLD_PRB_THRESH,\n",
    "    nir_drk_thresh=NIR_DRK_THRESH,\n",
    "    cld_prj_dist=CLD_PRJ_DIST,\n",
    "    buffer=BUFFER,\n",
    "    )\n",
    "\n",
    "cloud_masked_image = masker.get_cloud_masked_image()\n"
   ]
  },
  {
   "cell_type": "code",
   "execution_count": 9,
   "metadata": {},
   "outputs": [
    {
     "data": {
      "application/vnd.jupyter.widget-view+json": {
       "model_id": "347aa5aba646430c953c38215e7addf0",
       "version_major": 2,
       "version_minor": 0
      },
      "text/plain": [
       "Map(center=[53.48302334723679, -1.3435543682535172], controls=(WidgetControl(options=['position', 'transparent…"
      ]
     },
     "execution_count": 9,
     "metadata": {},
     "output_type": "execute_result"
    }
   ],
   "source": [
    "import geemap\n",
    "# Visualize (This part is for demonstration and won't run in a standalone Python script)\n",
    "Map = geemap.Map()\n",
    "Map.centerObject(AOI, 10)\n",
    "Map.addLayer(cloud_masked_image, {'bands': ['B4', 'B3', 'B2'], 'min': 0, 'max': 2500, 'gamma': 1.1}, 'RGB')\n",
    "Map\n"
   ]
  },
  {
   "cell_type": "code",
   "execution_count": 10,
   "metadata": {},
   "outputs": [
    {
     "data": {
      "text/html": [
       "\n",
       "            <style>\n",
       "                .geemap-dark {\n",
       "                    --jp-widgets-color: white;\n",
       "                    --jp-widgets-label-color: white;\n",
       "                    --jp-ui-font-color1: white;\n",
       "                    --jp-layout-color2: #454545;\n",
       "                    background-color: #383838;\n",
       "                }\n",
       "                    \n",
       "                .geemap-dark .jupyter-button {\n",
       "                    --jp-layout-color3: #383838;\n",
       "                }\n",
       "                \n",
       "                .geemap-colab {\n",
       "                    background-color: var(--colab-primary-surface-color, white);\n",
       "                }\n",
       "                    \n",
       "                .geemap-colab .jupyter-button {\n",
       "                    --jp-layout-color3: var(--colab-primary-surface-color, white);\n",
       "                }\n",
       "            </style>\n",
       "            "
      ],
      "text/plain": [
       "<IPython.core.display.HTML object>"
      ]
     },
     "metadata": {},
     "output_type": "display_data"
    },
    {
     "name": "stdout",
     "output_type": "stream",
     "text": [
      "Export task started!\n"
     ]
    }
   ],
   "source": [
    "google_drive_folder = \"earth_engine\"\n",
    "file_prefix = \"sentinel2_cloud_free_south_yorkshire_2022\"\n",
    "\n",
    "aoi_box = ee.Geometry.Rectangle([xmin, ymin, xmax, ymax])\n",
    "# Export as TIFF to Google Drive\n",
    "task = ee.batch.Export.image.toDrive(\n",
    "    image=cloud_masked_image,\n",
    "    description='Sentinel2_CloudFree',\n",
    "#    folder=google_drive_folder,  # specify the folder name here\n",
    "#    fileNamePrefix=file_prefix,  # specify the file name prefix here\n",
    "    scale=10,\n",
    "    region=aoi_box,\n",
    "    crs='EPSG:27700',\n",
    "    fileFormat='GeoTIFF'\n",
    ")\n",
    "task.start()\n",
    "\n",
    "print(\"Export task started!\")"
   ]
  },
  {
   "cell_type": "code",
   "execution_count": 11,
   "metadata": {},
   "outputs": [
    {
     "data": {
      "text/html": [
       "\n",
       "            <style>\n",
       "                .geemap-dark {\n",
       "                    --jp-widgets-color: white;\n",
       "                    --jp-widgets-label-color: white;\n",
       "                    --jp-ui-font-color1: white;\n",
       "                    --jp-layout-color2: #454545;\n",
       "                    background-color: #383838;\n",
       "                }\n",
       "                    \n",
       "                .geemap-dark .jupyter-button {\n",
       "                    --jp-layout-color3: #383838;\n",
       "                }\n",
       "                \n",
       "                .geemap-colab {\n",
       "                    background-color: var(--colab-primary-surface-color, white);\n",
       "                }\n",
       "                    \n",
       "                .geemap-colab .jupyter-button {\n",
       "                    --jp-layout-color3: var(--colab-primary-surface-color, white);\n",
       "                }\n",
       "            </style>\n",
       "            "
      ],
      "text/plain": [
       "<IPython.core.display.HTML object>"
      ]
     },
     "metadata": {},
     "output_type": "display_data"
    },
    {
     "name": "stdout",
     "output_type": "stream",
     "text": [
      "Polling for task (id: B4FLA7ERYE25K6AYUISKRB75).\n",
      "Polling for task (id: B4FLA7ERYE25K6AYUISKRB75).\n",
      "Polling for task (id: B4FLA7ERYE25K6AYUISKRB75).\n",
      "Polling for task (id: B4FLA7ERYE25K6AYUISKRB75).\n",
      "Polling for task (id: B4FLA7ERYE25K6AYUISKRB75).\n",
      "Polling for task (id: B4FLA7ERYE25K6AYUISKRB75).\n",
      "Polling for task (id: B4FLA7ERYE25K6AYUISKRB75).\n",
      "Polling for task (id: B4FLA7ERYE25K6AYUISKRB75).\n",
      "Polling for task (id: B4FLA7ERYE25K6AYUISKRB75).\n",
      "Polling for task (id: B4FLA7ERYE25K6AYUISKRB75).\n",
      "Polling for task (id: B4FLA7ERYE25K6AYUISKRB75).\n",
      "Polling for task (id: B4FLA7ERYE25K6AYUISKRB75).\n",
      "Polling for task (id: B4FLA7ERYE25K6AYUISKRB75).\n",
      "Polling for task (id: B4FLA7ERYE25K6AYUISKRB75).\n",
      "Polling for task (id: B4FLA7ERYE25K6AYUISKRB75).\n",
      "Polling for task (id: B4FLA7ERYE25K6AYUISKRB75).\n",
      "Polling for task (id: B4FLA7ERYE25K6AYUISKRB75).\n",
      "Polling for task (id: B4FLA7ERYE25K6AYUISKRB75).\n",
      "Polling for task (id: B4FLA7ERYE25K6AYUISKRB75).\n",
      "Polling for task (id: B4FLA7ERYE25K6AYUISKRB75).\n",
      "Polling for task (id: B4FLA7ERYE25K6AYUISKRB75).\n",
      "Polling for task (id: B4FLA7ERYE25K6AYUISKRB75).\n",
      "Polling for task (id: B4FLA7ERYE25K6AYUISKRB75).\n",
      "Polling for task (id: B4FLA7ERYE25K6AYUISKRB75).\n",
      "Polling for task (id: B4FLA7ERYE25K6AYUISKRB75).\n",
      "Polling for task (id: B4FLA7ERYE25K6AYUISKRB75).\n",
      "Polling for task (id: B4FLA7ERYE25K6AYUISKRB75).\n",
      "Polling for task (id: B4FLA7ERYE25K6AYUISKRB75).\n",
      "Polling for task (id: B4FLA7ERYE25K6AYUISKRB75).\n",
      "Polling for task (id: B4FLA7ERYE25K6AYUISKRB75).\n",
      "Polling for task (id: B4FLA7ERYE25K6AYUISKRB75).\n",
      "Polling for task (id: B4FLA7ERYE25K6AYUISKRB75).\n",
      "Polling for task (id: B4FLA7ERYE25K6AYUISKRB75).\n",
      "Polling for task (id: B4FLA7ERYE25K6AYUISKRB75).\n",
      "Polling for task (id: B4FLA7ERYE25K6AYUISKRB75).\n",
      "Polling for task (id: B4FLA7ERYE25K6AYUISKRB75).\n",
      "Polling for task (id: B4FLA7ERYE25K6AYUISKRB75).\n",
      "Polling for task (id: B4FLA7ERYE25K6AYUISKRB75).\n",
      "Polling for task (id: B4FLA7ERYE25K6AYUISKRB75).\n",
      "Polling for task (id: B4FLA7ERYE25K6AYUISKRB75).\n",
      "Polling for task (id: B4FLA7ERYE25K6AYUISKRB75).\n",
      "Polling for task (id: B4FLA7ERYE25K6AYUISKRB75).\n",
      "Polling for task (id: B4FLA7ERYE25K6AYUISKRB75).\n",
      "Polling for task (id: B4FLA7ERYE25K6AYUISKRB75).\n",
      "Polling for task (id: B4FLA7ERYE25K6AYUISKRB75).\n",
      "Polling for task (id: B4FLA7ERYE25K6AYUISKRB75).\n",
      "Polling for task (id: B4FLA7ERYE25K6AYUISKRB75).\n",
      "Polling for task (id: B4FLA7ERYE25K6AYUISKRB75).\n",
      "Polling for task (id: B4FLA7ERYE25K6AYUISKRB75).\n",
      "Polling for task (id: B4FLA7ERYE25K6AYUISKRB75).\n",
      "Polling for task (id: B4FLA7ERYE25K6AYUISKRB75).\n",
      "Polling for task (id: B4FLA7ERYE25K6AYUISKRB75).\n",
      "Polling for task (id: B4FLA7ERYE25K6AYUISKRB75).\n",
      "Polling for task (id: B4FLA7ERYE25K6AYUISKRB75).\n",
      "Polling for task (id: B4FLA7ERYE25K6AYUISKRB75).\n",
      "Polling for task (id: B4FLA7ERYE25K6AYUISKRB75).\n",
      "Polling for task (id: B4FLA7ERYE25K6AYUISKRB75).\n",
      "Polling for task (id: B4FLA7ERYE25K6AYUISKRB75).\n",
      "Polling for task (id: B4FLA7ERYE25K6AYUISKRB75).\n",
      "Polling for task (id: B4FLA7ERYE25K6AYUISKRB75).\n",
      "Polling for task (id: B4FLA7ERYE25K6AYUISKRB75).\n",
      "Polling for task (id: B4FLA7ERYE25K6AYUISKRB75).\n",
      "Polling for task (id: B4FLA7ERYE25K6AYUISKRB75).\n",
      "Polling for task (id: B4FLA7ERYE25K6AYUISKRB75).\n",
      "Polling for task (id: B4FLA7ERYE25K6AYUISKRB75).\n",
      "Polling for task (id: B4FLA7ERYE25K6AYUISKRB75).\n",
      "Polling for task (id: B4FLA7ERYE25K6AYUISKRB75).\n",
      "Polling for task (id: B4FLA7ERYE25K6AYUISKRB75).\n",
      "Polling for task (id: B4FLA7ERYE25K6AYUISKRB75).\n",
      "Polling for task (id: B4FLA7ERYE25K6AYUISKRB75).\n",
      "Polling for task (id: B4FLA7ERYE25K6AYUISKRB75).\n",
      "Polling for task (id: B4FLA7ERYE25K6AYUISKRB75).\n",
      "Polling for task (id: B4FLA7ERYE25K6AYUISKRB75).\n",
      "Polling for task (id: B4FLA7ERYE25K6AYUISKRB75).\n",
      "Polling for task (id: B4FLA7ERYE25K6AYUISKRB75).\n",
      "Polling for task (id: B4FLA7ERYE25K6AYUISKRB75).\n",
      "Polling for task (id: B4FLA7ERYE25K6AYUISKRB75).\n",
      "Polling for task (id: B4FLA7ERYE25K6AYUISKRB75).\n",
      "Polling for task (id: B4FLA7ERYE25K6AYUISKRB75).\n",
      "Polling for task (id: B4FLA7ERYE25K6AYUISKRB75).\n",
      "Polling for task (id: B4FLA7ERYE25K6AYUISKRB75).\n",
      "Polling for task (id: B4FLA7ERYE25K6AYUISKRB75).\n",
      "Polling for task (id: B4FLA7ERYE25K6AYUISKRB75).\n",
      "Polling for task (id: B4FLA7ERYE25K6AYUISKRB75).\n",
      "Polling for task (id: B4FLA7ERYE25K6AYUISKRB75).\n",
      "Polling for task (id: B4FLA7ERYE25K6AYUISKRB75).\n",
      "Polling for task (id: B4FLA7ERYE25K6AYUISKRB75).\n",
      "Polling for task (id: B4FLA7ERYE25K6AYUISKRB75).\n",
      "Polling for task (id: B4FLA7ERYE25K6AYUISKRB75).\n",
      "Polling for task (id: B4FLA7ERYE25K6AYUISKRB75).\n",
      "Polling for task (id: B4FLA7ERYE25K6AYUISKRB75).\n",
      "Polling for task (id: B4FLA7ERYE25K6AYUISKRB75).\n",
      "Polling for task (id: B4FLA7ERYE25K6AYUISKRB75).\n",
      "Polling for task (id: B4FLA7ERYE25K6AYUISKRB75).\n",
      "Polling for task (id: B4FLA7ERYE25K6AYUISKRB75).\n",
      "Polling for task (id: B4FLA7ERYE25K6AYUISKRB75).\n",
      "Polling for task (id: B4FLA7ERYE25K6AYUISKRB75).\n",
      "Polling for task (id: B4FLA7ERYE25K6AYUISKRB75).\n",
      "Polling for task (id: B4FLA7ERYE25K6AYUISKRB75).\n",
      "Polling for task (id: B4FLA7ERYE25K6AYUISKRB75).\n",
      "Polling for task (id: B4FLA7ERYE25K6AYUISKRB75).\n",
      "Polling for task (id: B4FLA7ERYE25K6AYUISKRB75).\n",
      "Polling for task (id: B4FLA7ERYE25K6AYUISKRB75).\n",
      "Polling for task (id: B4FLA7ERYE25K6AYUISKRB75).\n",
      "Polling for task (id: B4FLA7ERYE25K6AYUISKRB75).\n",
      "Polling for task (id: B4FLA7ERYE25K6AYUISKRB75).\n"
     ]
    }
   ],
   "source": [
    "import time\n",
    "task.status()\n",
    "while task.active():\n",
    "    print('Polling for task (id: {}).'.format(task.id))\n",
    "    time.sleep(5)"
   ]
  }
 ],
 "metadata": {
  "kernelspec": {
   "display_name": "bats",
   "language": "python",
   "name": "python3"
  },
  "language_info": {
   "codemirror_mode": {
    "name": "ipython",
    "version": 3
   },
   "file_extension": ".py",
   "mimetype": "text/x-python",
   "name": "python",
   "nbconvert_exporter": "python",
   "pygments_lexer": "ipython3",
   "version": "3.11.6"
  },
  "orig_nbformat": 4
 },
 "nbformat": 4,
 "nbformat_minor": 2
}
